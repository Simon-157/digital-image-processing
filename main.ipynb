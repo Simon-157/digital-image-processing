{
 "cells": [
  {
   "cell_type": "markdown",
   "metadata": {},
   "source": [
    "### IMPORTING THE LIBRARIES"
   ]
  },
  {
   "cell_type": "code",
   "execution_count": null,
   "metadata": {},
   "outputs": [],
   "source": [
    "# libraries\n",
    "import matplotlib.pyplot as plt\n",
    "import matplotlib.image as img\n",
    "import numpy as np \n",
    "from PIL import Image\n",
    "import string\n",
    "import warnings\n",
    "warnings.filterwarnings('ignore')\n",
    "%matplotlib inline"
   ]
  },
  {
   "cell_type": "markdown",
   "metadata": {},
   "source": [
    "### LOADING THE IMAGE TO BE PROCESSED"
   ]
  },
  {
   "cell_type": "code",
   "execution_count": null,
   "metadata": {},
   "outputs": [],
   "source": [
    "roseImg = Image.open('rose.png')\n",
    "plt.imshow(roseImg)\n",
    "plt.subplot()"
   ]
  },
  {
   "cell_type": "code",
   "execution_count": null,
   "metadata": {},
   "outputs": [],
   "source": [
    "car = Image.open('car.jpg')"
   ]
  },
  {
   "cell_type": "code",
   "execution_count": null,
   "metadata": {},
   "outputs": [],
   "source": [
    "house = Image.open('house.jpg')"
   ]
  },
  {
   "cell_type": "code",
   "execution_count": null,
   "metadata": {},
   "outputs": [],
   "source": [
    "balloons = Image.open('balloons.png')"
   ]
  },
  {
   "cell_type": "code",
   "execution_count": null,
   "metadata": {},
   "outputs": [],
   "source": [
    "roseImg.size"
   ]
  },
  {
   "cell_type": "markdown",
   "metadata": {},
   "source": [
    "### Transformation on Image"
   ]
  },
  {
   "cell_type": "markdown",
   "metadata": {},
   "source": [
    "#### Affine Transformation"
   ]
  },
  {
   "cell_type": "code",
   "execution_count": null,
   "metadata": {},
   "outputs": [],
   "source": [
    "A = np.array([[0,1,0], [1,0,1],[0,-1,2],[ -1,0,3]])"
   ]
  },
  {
   "cell_type": "code",
   "execution_count": null,
   "metadata": {},
   "outputs": [],
   "source": [
    "#The identity matrix with the same size as A\n",
    "I = np.eye(3)"
   ]
  },
  {
   "cell_type": "code",
   "execution_count": null,
   "metadata": {},
   "outputs": [],
   "source": [
    "rgb_color_palette = 'rgbc'"
   ]
  },
  {
   "cell_type": "code",
   "execution_count": null,
   "metadata": {},
   "outputs": [],
   "source": [
    "fig = plt.figure()\n",
    "ax = plt.gca()\n",
    "x_cordinates = []\n",
    "y_cordinates = []\n",
    "\n",
    "for row in A:\n",
    "    output_row = I @ row\n",
    "    x, y, i = output_row\n",
    "    x_cordinates.append(x)\n",
    "    y_cordinates.append(y)\n",
    "    c = rgb_color_palette[int(i)]\n",
    "    plt.scatter(x, y, color=c)\n",
    "    plt.text(x + 0.15, y, f\"{string.ascii_letters[int(i)]}\")\n",
    "x_cordinates.append(x_cordinates[0])\n",
    "y_cordinates.append(y_cordinates[0])\n",
    "plt.plot(x_cordinates, y_cordinates, color=\"orange\")\n",
    "# ax.set_xticks(np.arange(-2.5, 3, 0.5))\n",
    "# ax.set_yticks(np.arange(-2.5, 3, 0.5))\n",
    "plt.grid()\n",
    "plt.show()"
   ]
  },
  {
   "cell_type": "markdown",
   "metadata": {},
   "source": [
    "#### scaling the object using a transformation matrix"
   ]
  },
  {
   "cell_type": "code",
   "execution_count": null,
   "metadata": {},
   "outputs": [],
   "source": [
    "Trans_matrix= np.array([[2, 0, 0], [0, 2, 0], [0, 0, 1]])   #transformation matrix\n",
    "\n",
    "fig = plt.figure()\n",
    "ax = plt.gca()\n",
    "x_cors = []\n",
    "y_cors = []\n",
    "for row in A:\n",
    "    output_row = Trans_matrix @ row\n",
    "    x, y, i = row\n",
    "    x_units, y_units, indx = output_row\n",
    "    print(x_units)\n",
    "    x_cors.append(x_units)\n",
    "    y_cors.append(y_units)\n",
    "    c, c_s = rgb_color_palette[int(i)], rgb_color_palette[int(indx)]\n",
    "    plt.scatter(x, y, color=c)\n",
    "    plt.scatter(x_units, y_units, color=c_s)\n",
    "    plt.text(x + 0.15, y, f\"{string.ascii_letters[int(i)]}\")\n",
    "    plt.text(x_units + 0.15, y_units, f\"{string.ascii_letters[int(indx)]}'\")\n",
    "\n",
    "x_cors.append(x_cors[0])\n",
    "y_cors.append(y_cors[0])\n",
    "plt.plot(x_cordinates, y_cordinates, color=\"orange\", linestyle = 'solid')\n",
    "plt.plot(x_cors, y_cors, color=\"violet\", linestyle='dotted')\n",
    "ax.set_xticks(np.arange(-2.5, 3, 0.5))\n",
    "ax.set_yticks(np.arange(-2.5, 3, 0.5))\n",
    "plt.grid()\n",
    "plt.show()"
   ]
  },
  {
   "cell_type": "markdown",
   "metadata": {},
   "source": [
    "#### rotation through 90 degrees using a transformation matrix"
   ]
  },
  {
   "cell_type": "code",
   "execution_count": null,
   "metadata": {},
   "outputs": [],
   "source": [
    "Trans_matrix_rot= np.array([[0, 1, 0], [-1, 0, 0], [0, 0, 1]])\n",
    "\n",
    "fig = plt.figure()\n",
    "ax = plt.gca()\n",
    "for row in A:\n",
    "    output_row = Trans_matrix_rot @ row \n",
    "    x_pts, y_pts, indx_ = output_row\n",
    "    c_r = rgb_color_palette[indx_] \n",
    "    letter_label = string.ascii_letters[indx_]\n",
    "    plt.scatter(x_pts, y_pts, color=c_r)\n",
    "    plt.text(x_pts + 0.15, y_pts, f\"{letter_label}'\")\n",
    "\n",
    "plt.plot(x_cordinates, y_cordinates, color=\"orange\", linestyle = 'solid')\n",
    "ax.set_xticks(np.arange(-2.5, 3, 0.5))\n",
    "ax.set_yticks(np.arange(-2.5, 3, 0.5))\n",
    "plt.grid()\n",
    "plt.show()"
   ]
  },
  {
   "cell_type": "markdown",
   "metadata": {},
   "source": [
    "#### Now, transforming the rose image using the idea above"
   ]
  },
  {
   "cell_type": "code",
   "execution_count": null,
   "metadata": {},
   "outputs": [],
   "source": [
    "# recenter resultant image\n",
    "T_center = np.array([\n",
    "    [1, 0, 1000],\n",
    "    [0, 1, 1000],\n",
    "    [0, 0, 1]])\n",
    "# rotate - opposite angle\n",
    "T_rotate = np.array([\n",
    "    [0, -1, 0],\n",
    "    [1, 0, 0],\n",
    "    [0, 0, 1]])\n",
    "# scale\n",
    "T_scale = np.array([\n",
    "    [2, 0, 0],\n",
    "    [0, 2, 0],\n",
    "    [0, 0, 1]])\n",
    "# center original to 0,0\n",
    "T_neg500 = np.array([\n",
    "    [1, 0, -200],\n",
    "    [0, 1, -200],\n",
    "    [0, 0, 1]])\n",
    "Transformed_img = T_center @ T_rotate @ T_scale @ T_neg500\n",
    "Trans_img_inv = np.linalg.inv(Transformed_img)"
   ]
  },
  {
   "cell_type": "code",
   "execution_count": null,
   "metadata": {},
   "outputs": [],
   "source": [
    "Trans_img_inv"
   ]
  },
  {
   "cell_type": "code",
   "execution_count": null,
   "metadata": {},
   "outputs": [],
   "source": [
    "img_transformed = roseImg.transform((2000, 2000), Image.AFFINE, data=Trans_img_inv.flatten()[:6], resample=Image.NEAREST)\n",
    "plt.imshow(np.asarray(img_transformed))"
   ]
  },
  {
   "cell_type": "markdown",
   "metadata": {},
   "source": [
    "#### Reiszing the roseImg using mulptiplication by scalar "
   ]
  },
  {
   "cell_type": "code",
   "execution_count": null,
   "metadata": {},
   "outputs": [],
   "source": [
    "input_size = 1500\n",
    "output_size = 750\n",
    "bin_size = input_size // output_size\n",
    "small_image = roseImg.resize((output_size,bin_size))\n",
    "small_image\n"
   ]
  },
  {
   "cell_type": "markdown",
   "metadata": {},
   "source": [
    "#### Translation on Image"
   ]
  },
  {
   "cell_type": "markdown",
   "metadata": {},
   "source": [
    "### Image Edge Detection"
   ]
  },
  {
   "cell_type": "code",
   "execution_count": null,
   "metadata": {},
   "outputs": [],
   "source": [
    "vertical_filter = [[-1,-2,-1], [0,0,0], [1,2,1]]\n",
    "horizontal_filter = [[-1,0,1], [-2,0,2], [-1,0,1]]"
   ]
  },
  {
   "cell_type": "code",
   "execution_count": null,
   "metadata": {},
   "outputs": [],
   "source": [
    "dove_img = plt.imread(\"dove.jpg\")\n",
    "plt.imshow(dove_img)"
   ]
  },
  {
   "cell_type": "code",
   "execution_count": null,
   "metadata": {},
   "outputs": [],
   "source": [
    "greyDove = dove_img.mean(axis=2, keepdims=True)/255.0\n",
    "greyDove = np.concatenate([greyDove] * 3, axis=2)\n",
    "plt.imshow(greyDove)"
   ]
  },
  {
   "cell_type": "code",
   "execution_count": null,
   "metadata": {},
   "outputs": [],
   "source": [
    "grey_image_edged = np.zeros_like(greyDove)"
   ]
  },
  {
   "cell_type": "code",
   "execution_count": null,
   "metadata": {},
   "outputs": [],
   "source": [
    "n,m,d = greyDove.shape\n",
    "\n",
    "# Applying the vertical and horizontal filters to the image and then combining the results to get the edge score.\n",
    "for row in range(3, n-2):\n",
    "    for col in range(3, m-2):\n",
    "        original_pxls = greyDove[row-1:row+2, col-1:col+2, 0]\n",
    "        v_transformed_pxls = vertical_filter*original_pxls\n",
    "        v_score = v_transformed_pxls.sum()/4\n",
    "        h_transformed_pxls = horizontal_filter*original_pxls\n",
    "        h_score = h_transformed_pxls.sum()/4\n",
    "        detected_edge_score = (v_score**2 + h_score**2)**0.5\n",
    "        grey_image_edged[row, col] = [detected_edge_score]*3\n",
    "grey_image_edged = grey_image_edged/grey_image_edged.max()\n"
   ]
  },
  {
   "cell_type": "code",
   "execution_count": null,
   "metadata": {},
   "outputs": [],
   "source": [
    "plt.imshow(grey_image_edged)"
   ]
  },
  {
   "cell_type": "markdown",
   "metadata": {},
   "source": [
    "#### Image Shawdowing"
   ]
  },
  {
   "cell_type": "code",
   "execution_count": null,
   "metadata": {},
   "outputs": [],
   "source": [
    "    \n",
    "def make_new_image(im):\n",
    "    main_image = im\n",
    "    shape = main_image.shape\n",
    "    row_value = shape[0]\n",
    "    column_value = shape[1] + 100\n",
    "    new_image = np.zeros((row_value, column_value, 3), dtype='uint8')\n",
    "    for row in range(0, shape[0], 1):\n",
    "        for column in range(0, shape[1], 1):\n",
    "            for RGB in range(0, 3, 1):\n",
    "                if main_image[row][column][0] == 255 and main_image[row][column][1] == 255 and main_image[row][column][2] == 255:\n",
    "                    new_image[row][column][RGB] = main_image[row][column][RGB]\n",
    "                else:\n",
    "                    new_image[row][column][RGB] = 100\n",
    "\n",
    "    for row in range(0, shape[0], 1):\n",
    "        for column in range(shape[1], column_value, 1):\n",
    "            for RGB in range(0, 3, 1):\n",
    "                new_image[row][column][RGB] = 255\n",
    "    plt.figure(figsize=(15,15))\n",
    "    plt.imshow(new_image)\n",
    "    plt.show()\n",
    "    return new_image\n"
   ]
  },
  {
   "cell_type": "code",
   "execution_count": null,
   "metadata": {},
   "outputs": [],
   "source": [
    "def shear_transformation(img):\n",
    "    gray_image = img\n",
    "    shape = gray_image.shape\n",
    "    row_value = shape[0]\n",
    "    column_value = shape[1]\n",
    "    new_image = np.zeros((row_value, column_value+gray_image.shape[0], 3), dtype='uint8')\n",
    "    for row in range(0, shape[0], 1):\n",
    "        for column in range(0, shape[1], 1):\n",
    "            for RGB in range(0, 3, 1):\n",
    "                new_image[row][-row+column][RGB] = gray_image[row][column][RGB]\n",
    "\n",
    "    for row in range(0, new_image.shape[0], 1):\n",
    "        for column in range(0, new_image.shape[1], 1):\n",
    "            if new_image[row][column][0] == 0 and new_image[row][column][1] == 0 and new_image[row][column][2] == 0:\n",
    "                for RGB in range(0, 3, 1):\n",
    "                    new_image[row][column][RGB] = 255\n",
    "\n",
    "    correct_image = np.zeros((new_image.shape[0], new_image.shape[1], 3), dtype='uint8')\n",
    "    for row in range(0, correct_image.shape[0], 1):\n",
    "        for column in range(0, int(correct_image.shape[1] / 2), 1):\n",
    "            for RGB in range(0, 3, 1):\n",
    "                correct_image[row][int(correct_image.shape[1] / 2) + column][RGB] = new_image[row][column][RGB]\n",
    "\n",
    "    for row in range(0, correct_image.shape[0], 1):\n",
    "        for column in range(int(correct_image.shape[1]/2)+1, correct_image.shape[1], 1):\n",
    "            for RGB in range(0, 3, 1):\n",
    "                correct_image[row][int(-correct_image.shape[1]/2)+column][RGB] = new_image[row][column][RGB]\n",
    "    plt.figure(figsize=(15, 15))\n",
    "    plt.imshow(correct_image)\n",
    "    plt.show()\n",
    "    return correct_image\n"
   ]
  },
  {
   "cell_type": "code",
   "execution_count": null,
   "metadata": {},
   "outputs": [],
   "source": [
    "\n",
    "def make_final_image(f_img, s_image):\n",
    "    shape_first = f_img.shape\n",
    "    shape_sheared = s_image.shape\n",
    "    final_img = np.zeros((shape_sheared[0], shape_sheared[1], 3), dtype='uint8')\n",
    "    for row in range(0, shape_first[0], 1):\n",
    "        for column in range(0, shape_first[1], 1):\n",
    "            if f_img[row][column][0] == 255 and f_img[row][column][1] == 255 and f_img[row][column][2] == 255:\n",
    "                for RGB in range(0, 3, 1):\n",
    "                    final_img[row][column][RGB] = s_image[row][column][RGB]\n",
    "\n",
    "    for row in range(0, shape_sheared[0], 1):\n",
    "        for column in range(shape_first[1], shape_sheared[1], 1):\n",
    "            for RGB in range(0, 3, 1):\n",
    "                final_img[row][column][RGB] = s_image[row][column][RGB]\n",
    "\n",
    "    plt.figure(figsize=(15,15))\n",
    "    plt.imshow(final_img)\n",
    "    plt.show()\n",
    "\n",
    "    for row in range(0, shape_first[0], 1):\n",
    "        for column in range(0, shape_first[1], 1):\n",
    "            if final_img[row][column][0] == 0 and final_img[row][column][1] == 0 and final_img[row][column][2] == 0:\n",
    "                for RGB in range(0, 3, 1):\n",
    "                    final_img[row][column][RGB] = f_img[row][column][RGB]\n",
    "\n",
    "    plt.imshow(final_img)\n",
    "    plt.show()\n"
   ]
  },
  {
   "cell_type": "code",
   "execution_count": null,
   "metadata": {},
   "outputs": [],
   "source": [
    "new_ima = img.imread('rose.jpg')\n",
    "bird_image = make_new_image(new_ima)\n",
    "sheared_image = shear_transformation(bird_image)\n",
    "make_final_image(bird_image, sheared_image)"
   ]
  },
  {
   "cell_type": "code",
   "execution_count": null,
   "metadata": {},
   "outputs": [],
   "source": [
    "PIL_image = Image.fromarray(np.uint8(edges_img))\n",
    "PIL_image\n",
    "\n",
    "  # PIL_image = Image.fromarray(edges_img.astype('uint8'), 'RGB')"
   ]
  },
  {
   "cell_type": "markdown",
   "metadata": {},
   "source": [
    "### Image Compression"
   ]
  },
  {
   "cell_type": "code",
   "execution_count": null,
   "metadata": {},
   "outputs": [],
   "source": [
    "dove_img = Image.open('dove.jpg')\n",
    "gray_dove = dove_img.convert('LA')"
   ]
  },
  {
   "cell_type": "code",
   "execution_count": null,
   "metadata": {},
   "outputs": [],
   "source": [
    "dove_img.size"
   ]
  },
  {
   "cell_type": "code",
   "execution_count": null,
   "metadata": {},
   "outputs": [],
   "source": [
    "plt.imshow(dove_img)\n",
    "plt.show()"
   ]
  },
  {
   "cell_type": "code",
   "execution_count": null,
   "metadata": {},
   "outputs": [],
   "source": [
    "plt.figure(figsize = (10, 7))\n",
    "plt.imshow(gray_dove)\n",
    "plt.show()"
   ]
  },
  {
   "cell_type": "code",
   "execution_count": null,
   "metadata": {},
   "outputs": [],
   "source": [
    "dove_matrix = np.array(list(gray_dove.getdata(band=0)), float)\n",
    "dove_matrix.shape = (gray_dove.size[1], gray_dove.size[0])\n",
    "dove_matrix = np.matrix(dove_matrix)"
   ]
  },
  {
   "cell_type": "code",
   "execution_count": null,
   "metadata": {},
   "outputs": [],
   "source": [
    "U, sigma, V = np.linalg.svd(dove_matrix)"
   ]
  },
  {
   "cell_type": "code",
   "execution_count": null,
   "metadata": {},
   "outputs": [],
   "source": [
    "\n",
    "U, sigma, V = np.linalg.svd(dove_matrix)\n",
    "for ind in range (10, 60, 10):\n",
    "  remap = np.matrix(U[:, :ind]) * np.diag(sigma[:ind]) * np.matrix(V[:ind, :])\n",
    "  plt.imshow(remap, cmap = 'gray')\n",
    "  plt.title(f'Number of vectors = {ind}')\n",
    "  plt.show()"
   ]
  }
 ],
 "metadata": {
  "kernelspec": {
   "display_name": "Python 3.9.13 ('base')",
   "language": "python",
   "name": "python3"
  },
  "language_info": {
   "codemirror_mode": {
    "name": "ipython",
    "version": 3
   },
   "file_extension": ".py",
   "mimetype": "text/x-python",
   "name": "python",
   "nbconvert_exporter": "python",
   "pygments_lexer": "ipython3",
   "version": "3.9.13"
  },
  "orig_nbformat": 4,
  "vscode": {
   "interpreter": {
    "hash": "d12e26f72a40d5c48233c54861fca038d6a92135fc0e5e920944e69c69b6b29d"
   }
  }
 },
 "nbformat": 4,
 "nbformat_minor": 2
}
